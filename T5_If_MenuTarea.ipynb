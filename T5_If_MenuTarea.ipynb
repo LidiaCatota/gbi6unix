{
  "nbformat": 4,
  "nbformat_minor": 0,
  "metadata": {
    "colab": {
      "provenance": [],
      "authorship_tag": "ABX9TyMqn+4ggkhNIc21Ri4ILiXk",
      "include_colab_link": true
    },
    "kernelspec": {
      "name": "python3",
      "display_name": "Python 3"
    },
    "language_info": {
      "name": "python"
    }
  },
  "cells": [
    {
      "cell_type": "markdown",
      "metadata": {
        "id": "view-in-github",
        "colab_type": "text"
      },
      "source": [
        "<a href=\"https://colab.research.google.com/github/LidiaCatota/gbi6unix/blob/main/T5_If_MenuTarea.ipynb\" target=\"_parent\"><img src=\"https://colab.research.google.com/assets/colab-badge.svg\" alt=\"Open In Colab\"/></a>"
      ]
    },
    {
      "cell_type": "code",
      "execution_count": null,
      "metadata": {
        "id": "r1TEpuSGviN-"
      },
      "outputs": [],
      "source": [
        "# \"Bienvenido al restaurante Manchitas\"\n",
        "# \"Por favor, seleccione los ingredientes para su plato:\"\n",
        "ingredientes = {\n",
        "    \"Menu 1\": 5.00,\n",
        "    \"Menu 2\": 3.50,\n",
        "    \"Menu 3\": 4.50,\n",
        "    \"Pollo criollo\": 4,\n",
        "    \"Tilapia\": 3,\n",
        "    \"Ensalada\": 1,\n",
        "    \"Jarra de bebida\" : 1 }\n"
      ]
    },
    {
      "cell_type": "code",
      "source": [
        "# Función para calcular el precio final del Menu\n",
        "def calcular_precio_Menu(ingredientes_seleccionados):\n",
        "    precio_total = 0\n",
        "\n",
        "    for ingrediente in ingredientes_seleccionados:\n",
        "        if ingrediente in ingredientes:\n",
        "            precio_total += ingredientes[ingrediente]\n",
        "        else:\n",
        "            print(\"El ingrediente\", ingrediente, \"no está disponible.\")\n",
        "\n",
        "    return precio_total"
      ],
      "metadata": {
        "id": "3mGUUQTUFYcM"
      },
      "execution_count": null,
      "outputs": []
    },
    {
      "cell_type": "code",
      "source": [
        "# Preguntar al cliente que Menu desea\n",
        "print(\"Opciones de ingredientes: Menu 1 (Sopa de pollo criollo+yuca+jarra de jugo+ensalada) $ 5, Menu 2 (Tilapia+yuca+Jarra de jugo+ensalada) $ 3.50, Menu 3 (Consome de pollo+papas+arroz+ carne frita+ensalada) $4.50,  (Consome de pollo criollo + yuca + vaso de wayusa) $4, (Tilapia + ensalada + Yuca) $3, Ensalada $1\", \"Jarra bebida $1\")\n",
        "print(\"Ingrese los ingredientes separados por coma:\")\n",
        "\n",
        "ingredientes_seleccionados = input().lower().split(\",\")\n"
      ],
      "metadata": {
        "colab": {
          "base_uri": "https://localhost:8080/"
        },
        "id": "5P9knKhEF8pl",
        "outputId": "195e82d2-1486-4273-9a46-7c6283710480"
      },
      "execution_count": null,
      "outputs": [
        {
          "metadata": {
            "tags": null
          },
          "name": "stdout",
          "output_type": "stream",
          "text": [
            "Opciones de ingredientes: Menu 1 (Sopa de pollo criollo+yuca+jarra de jugo+ensalada) $ 5, Menu 2 (Tilapia+yuca+Jarra de jugo+ensalada) $ 3.50, Menu 3 (Consome de pollo+papas+arroz+ carne frita+ensalada) $4.50,  (Consome de pollo criollo + yuca + vaso de wayusa) $4, (Tilapia + ensalada + Yuca) $3, Ensalada $1 Jarra bebida $1\n",
            "Ingrese los ingredientes separados por coma:\n"
          ]
        }
      ]
    },
    {
      "cell_type": "code",
      "source": [
        "# Calcula el precio final del Menu utilizando la función\n",
        "precio_final = calcular_precio_Menu(ingredientes_seleccionados)"
      ],
      "metadata": {
        "id": "B5xomYU4MxbM"
      },
      "execution_count": null,
      "outputs": []
    },
    {
      "cell_type": "code",
      "source": [
        "# Muestra el precio final del Menu\n",
        "print(\"El precio total de su Menu es: $\", precio_final)"
      ],
      "metadata": {
        "id": "6W6Btgn8PE2s"
      },
      "execution_count": null,
      "outputs": []
    },
    {
      "cell_type": "code",
      "source": [
        "# asignando el valor \"Gracias por visitarnos. ¡Buen provecho!\" a la variable X\n",
        "a = \"Gracias por visitarnos. ¡Buen provecho!\"\n",
        "print(a)\n",
        "print"
      ],
      "metadata": {
        "id": "R649jVQ8Pbtb"
      },
      "execution_count": null,
      "outputs": []
    }
  ]
}